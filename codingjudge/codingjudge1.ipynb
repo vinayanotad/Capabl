{
 "cells": [
  {
   "cell_type": "markdown",
   "metadata": {},
   "source": [
    "#### 35. Count Vowels and Consonants"
   ]
  },
  {
   "cell_type": "code",
   "execution_count": 1,
   "metadata": {},
   "outputs": [
    {
     "name": "stdout",
     "output_type": "stream",
     "text": [
      "5   6\n"
     ]
    }
   ],
   "source": [
    "def count_vowels_and_consonants(s):\n",
    "\n",
    "    # Write your code here\n",
    "    vowels = \"aeiouAEIOU\"\n",
    "    vowel_count = 0\n",
    "    consonant_count = 0\n",
    "\n",
    "    for char in s:\n",
    "        if char.isalpha():\n",
    "            if char in vowels:\n",
    "                vowel_count += 1\n",
    "            else:\n",
    "                consonant_count += 1\n",
    "        \n",
    "    print(vowel_count,\" \",consonant_count)\n",
    "s = str(input(\"Enter the Alphabet\"))\n",
    "count_vowels_and_consonants(s)"
   ]
  },
  {
   "cell_type": "code",
   "execution_count": 3,
   "metadata": {},
   "outputs": [
    {
     "name": "stdout",
     "output_type": "stream",
     "text": [
      "19.504456\n"
     ]
    }
   ],
   "source": [
    "def pounds_to_kilograms():\n",
    "    weight_in_pounds = int(input())\n",
    "    #Write your code here\n",
    "    weight_in_kilograms = weight_in_pounds * 0.453592\n",
    "    return weight_in_kilograms\n",
    "\n",
    "# Call the function\n",
    "print(pounds_to_kilograms())"
   ]
  },
  {
   "cell_type": "code",
   "execution_count": 4,
   "metadata": {},
   "outputs": [
    {
     "name": "stdout",
     "output_type": "stream",
     "text": [
      "Palindrome\n",
      "None\n"
     ]
    }
   ],
   "source": [
    "s = input()\n",
    "def is_palindrome():\n",
    "\t\t\n",
    "\n",
    "       #Write your code here\n",
    "    reverse_s=s[::-1]\n",
    "    if(s==reverse_s):\n",
    "      print(\"Palindrome\")\n",
    "    else:\n",
    "      print(\"Not Palindrome\")\n",
    "      \n",
    "print(is_palindrome())"
   ]
  },
  {
   "cell_type": "code",
   "execution_count": 5,
   "metadata": {},
   "outputs": [
    {
     "name": "stdout",
     "output_type": "stream",
     "text": [
      "FGGSHJ\n"
     ]
    }
   ],
   "source": [
    "def uppercase_lowercase():\n",
    "    input_string = input()\n",
    "   #Write your code here\n",
    "    r=input_string.upper()\n",
    "    return r\n",
    "\n",
    "print(uppercase_lowercase())"
   ]
  },
  {
   "cell_type": "code",
   "execution_count": 6,
   "metadata": {},
   "outputs": [
    {
     "ename": "NameError",
     "evalue": "name 'user_input' is not defined",
     "output_type": "error",
     "traceback": [
      "\u001b[1;31m---------------------------------------------------------------------------\u001b[0m",
      "\u001b[1;31mNameError\u001b[0m                                 Traceback (most recent call last)",
      "\u001b[1;32m~\\AppData\\Local\\Temp\\ipykernel_3284\\3413414435.py\u001b[0m in \u001b[0;36m<module>\u001b[1;34m\u001b[0m\n\u001b[0;32m      5\u001b[0m \u001b[1;31m# Example usage:\u001b[0m\u001b[1;33m\u001b[0m\u001b[1;33m\u001b[0m\u001b[0m\n\u001b[0;32m      6\u001b[0m \u001b[1;33m\u001b[0m\u001b[0m\n\u001b[1;32m----> 7\u001b[1;33m \u001b[0mresult\u001b[0m \u001b[1;33m=\u001b[0m \u001b[0mconvert_to_uppercase\u001b[0m\u001b[1;33m(\u001b[0m\u001b[0muser_input\u001b[0m\u001b[1;33m)\u001b[0m\u001b[1;33m\u001b[0m\u001b[1;33m\u001b[0m\u001b[0m\n\u001b[0m\u001b[0;32m      8\u001b[0m \u001b[0mprint\u001b[0m\u001b[1;33m(\u001b[0m\u001b[1;34m\"Uppercase:\"\u001b[0m\u001b[1;33m,\u001b[0m \u001b[0mresult\u001b[0m\u001b[1;33m)\u001b[0m\u001b[1;33m\u001b[0m\u001b[1;33m\u001b[0m\u001b[0m\n",
      "\u001b[1;31mNameError\u001b[0m: name 'user_input' is not defined"
     ]
    }
   ],
   "source": [
    "def convert_to_uppercase(input_string):\n",
    "    user_input = input(\"Enter a string: \")\n",
    "    return input_string.upper()\n",
    "\n",
    "# Example usage:\n",
    "\n",
    "result = convert_to_uppercase(user_input)\n",
    "print(\"Uppercase:\", result)\n"
   ]
  },
  {
   "cell_type": "code",
   "execution_count": 7,
   "metadata": {},
   "outputs": [
    {
     "name": "stdout",
     "output_type": "stream",
     "text": [
      "30611.563304\n"
     ]
    }
   ],
   "source": [
    "def pounds_to_kilograms():\n",
    "    weight_in_pounds = int(input())\n",
    "    #Write your code here\n",
    "    kilograms = weight_in_pounds * 0.453592\n",
    "    return kilograms\n",
    "\n",
    "print(pounds_to_kilograms())"
   ]
  }
 ],
 "metadata": {
  "kernelspec": {
   "display_name": "base",
   "language": "python",
   "name": "python3"
  },
  "language_info": {
   "codemirror_mode": {
    "name": "ipython",
    "version": 3
   },
   "file_extension": ".py",
   "mimetype": "text/x-python",
   "name": "python",
   "nbconvert_exporter": "python",
   "pygments_lexer": "ipython3",
   "version": "3.9.13"
  }
 },
 "nbformat": 4,
 "nbformat_minor": 2
}
