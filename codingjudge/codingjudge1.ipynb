{
 "cells": [
  {
   "cell_type": "markdown",
   "metadata": {},
   "source": [
    "#### 35. Count Vowels and Consonants"
   ]
  },
  {
   "cell_type": "code",
   "execution_count": 10,
   "metadata": {},
   "outputs": [
    {
     "name": "stdout",
     "output_type": "stream",
     "text": [
      "0   14\n"
     ]
    }
   ],
   "source": [
    "def count_vowels_and_consonants(s):\n",
    "\n",
    "    # Write your code here\n",
    "    vowels = \"aeiouAEIOU\"\n",
    "    vowel_count = 0\n",
    "    consonant_count = 0\n",
    "\n",
    "    for char in s:\n",
    "        if char.isalpha():\n",
    "            if char in vowels:\n",
    "                vowel_count += 1\n",
    "            else:\n",
    "                consonant_count += 1\n",
    "        \n",
    "    print(vowel_count,\" \",consonant_count)\n",
    "s = str(input(\"Enter the Alphabet\"))\n",
    "count_vowels_and_consonants(s)"
   ]
  },
  {
   "cell_type": "code",
   "execution_count": 14,
   "metadata": {},
   "outputs": [
    {
     "name": "stdout",
     "output_type": "stream",
     "text": [
      "15.422128\n"
     ]
    }
   ],
   "source": [
    "def pounds_to_kilograms():\n",
    "    weight_in_pounds = int(input())\n",
    "    #Write your code here\n",
    "    weight_in_kilograms = weight_in_pounds * 0.453592\n",
    "    return weight_in_kilograms\n",
    "\n",
    "# Call the function\n",
    "print(pounds_to_kilograms())"
   ]
  },
  {
   "cell_type": "code",
   "execution_count": 17,
   "metadata": {},
   "outputs": [
    {
     "name": "stdout",
     "output_type": "stream",
     "text": [
      "Palindrome\n",
      "None\n"
     ]
    }
   ],
   "source": [
    "s = input()\n",
    "def is_palindrome():\n",
    "\t\t\n",
    "\n",
    "       #Write your code here\n",
    "    reverse_s=s[::-1]\n",
    "    if(s==reverse_s):\n",
    "      print(\"Palindrome\")\n",
    "    else:\n",
    "      print(\"Not Palindrome\")\n",
    "      \n",
    "print(is_palindrome())"
   ]
  },
  {
   "cell_type": "code",
   "execution_count": 26,
   "metadata": {},
   "outputs": [
    {
     "name": "stdout",
     "output_type": "stream",
     "text": [
      "FD\n"
     ]
    }
   ],
   "source": [
    "def uppercase_lowercase():\n",
    "    input_string = input()\n",
    "   #Write your code here\n",
    "    r=input_string.upper()\n",
    "    return r\n",
    "\n",
    "print(uppercase_lowercase())"
   ]
  },
  {
   "cell_type": "code",
   "execution_count": 25,
   "metadata": {},
   "outputs": [
    {
     "name": "stdout",
     "output_type": "stream",
     "text": [
      "Uppercase: HJ\n"
     ]
    }
   ],
   "source": [
    "def convert_to_uppercase(input_string):\n",
    "    user_input = input(\"Enter a string: \")\n",
    "    return input_string.upper()\n",
    "\n",
    "# Example usage:\n",
    "\n",
    "result = convert_to_uppercase(user_input)\n",
    "print(\"Uppercase:\", result)\n"
   ]
  },
  {
   "cell_type": "code",
   "execution_count": 27,
   "metadata": {},
   "outputs": [
    {
     "name": "stdout",
     "output_type": "stream",
     "text": [
      "30.390664\n"
     ]
    }
   ],
   "source": [
    "def pounds_to_kilograms():\n",
    "    weight_in_pounds = int(input())\n",
    "    #Write your code here\n",
    "    kilograms = weight_in_pounds * 0.453592\n",
    "    return kilograms\n",
    "\n",
    "print(pounds_to_kilograms())"
   ]
  }
 ],
 "metadata": {
  "kernelspec": {
   "display_name": "base",
   "language": "python",
   "name": "python3"
  },
  "language_info": {
   "codemirror_mode": {
    "name": "ipython",
    "version": 3
   },
   "file_extension": ".py",
   "mimetype": "text/x-python",
   "name": "python",
   "nbconvert_exporter": "python",
   "pygments_lexer": "ipython3",
   "version": "3.9.13"
  }
 },
 "nbformat": 4,
 "nbformat_minor": 2
}
