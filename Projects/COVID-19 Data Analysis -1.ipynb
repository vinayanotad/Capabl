{
 "cells": [
  {
   "cell_type": "markdown",
   "id": "77500b02",
   "metadata": {},
   "source": [
    "# COVID-19 DATA ANALYSIS -1 "
   ]
  },
  {
   "cell_type": "markdown",
   "id": "469ad8e1",
   "metadata": {},
   "source": [
    "### Import pandas"
   ]
  },
  {
   "cell_type": "code",
   "execution_count": 1,
   "id": "82aa0c8e",
   "metadata": {},
   "outputs": [],
   "source": [
    "import pandas as pd"
   ]
  },
  {
   "cell_type": "markdown",
   "id": "e0b6b751",
   "metadata": {},
   "source": [
    "## Load the dataset "
   ]
  },
  {
   "cell_type": "code",
   "execution_count": 2,
   "id": "f993cc4d",
   "metadata": {},
   "outputs": [],
   "source": [
    "url = 'https://raw.githubusercontent.com/capabletg/naukrisaksham-data-science/main/Covid%20Analysis%20-%20Phase%201.csv'\n",
    "data = pd.read_csv(url)"
   ]
  },
  {
   "cell_type": "code",
   "execution_count": 3,
   "id": "0dad0c5b",
   "metadata": {},
   "outputs": [
    {
     "data": {
      "text/html": [
       "<div>\n",
       "<style scoped>\n",
       "    .dataframe tbody tr th:only-of-type {\n",
       "        vertical-align: middle;\n",
       "    }\n",
       "\n",
       "    .dataframe tbody tr th {\n",
       "        vertical-align: top;\n",
       "    }\n",
       "\n",
       "    .dataframe thead th {\n",
       "        text-align: right;\n",
       "    }\n",
       "</style>\n",
       "<table border=\"1\" class=\"dataframe\">\n",
       "  <thead>\n",
       "    <tr style=\"text-align: right;\">\n",
       "      <th></th>\n",
       "      <th>Country/Region</th>\n",
       "      <th>Confirmed</th>\n",
       "      <th>Deaths</th>\n",
       "      <th>Recovered</th>\n",
       "      <th>Active</th>\n",
       "      <th>New cases</th>\n",
       "      <th>New deaths</th>\n",
       "      <th>New recovered</th>\n",
       "      <th>Deaths / 100 Cases</th>\n",
       "      <th>Recovered / 100 Cases</th>\n",
       "      <th>Deaths / 100 Recovered</th>\n",
       "      <th>Confirmed last week</th>\n",
       "      <th>1 week change</th>\n",
       "      <th>1 week % increase</th>\n",
       "      <th>WHO Region</th>\n",
       "    </tr>\n",
       "  </thead>\n",
       "  <tbody>\n",
       "    <tr>\n",
       "      <th>0</th>\n",
       "      <td>Afghanistan</td>\n",
       "      <td>36263</td>\n",
       "      <td>1269</td>\n",
       "      <td>25198</td>\n",
       "      <td>9796</td>\n",
       "      <td>106</td>\n",
       "      <td>10</td>\n",
       "      <td>18</td>\n",
       "      <td>3.50</td>\n",
       "      <td>69.49</td>\n",
       "      <td>5.04</td>\n",
       "      <td>35526</td>\n",
       "      <td>737</td>\n",
       "      <td>2.07</td>\n",
       "      <td>Eastern Mediterranean</td>\n",
       "    </tr>\n",
       "    <tr>\n",
       "      <th>1</th>\n",
       "      <td>Albania</td>\n",
       "      <td>4880</td>\n",
       "      <td>144</td>\n",
       "      <td>2745</td>\n",
       "      <td>1991</td>\n",
       "      <td>117</td>\n",
       "      <td>6</td>\n",
       "      <td>63</td>\n",
       "      <td>2.95</td>\n",
       "      <td>56.25</td>\n",
       "      <td>5.25</td>\n",
       "      <td>4171</td>\n",
       "      <td>709</td>\n",
       "      <td>17.00</td>\n",
       "      <td>Europe</td>\n",
       "    </tr>\n",
       "    <tr>\n",
       "      <th>2</th>\n",
       "      <td>Algeria</td>\n",
       "      <td>27973</td>\n",
       "      <td>1163</td>\n",
       "      <td>18837</td>\n",
       "      <td>7973</td>\n",
       "      <td>616</td>\n",
       "      <td>8</td>\n",
       "      <td>749</td>\n",
       "      <td>4.16</td>\n",
       "      <td>67.34</td>\n",
       "      <td>6.17</td>\n",
       "      <td>23691</td>\n",
       "      <td>4282</td>\n",
       "      <td>18.07</td>\n",
       "      <td>Africa</td>\n",
       "    </tr>\n",
       "    <tr>\n",
       "      <th>3</th>\n",
       "      <td>Andorra</td>\n",
       "      <td>907</td>\n",
       "      <td>52</td>\n",
       "      <td>803</td>\n",
       "      <td>52</td>\n",
       "      <td>10</td>\n",
       "      <td>0</td>\n",
       "      <td>0</td>\n",
       "      <td>5.73</td>\n",
       "      <td>88.53</td>\n",
       "      <td>6.48</td>\n",
       "      <td>884</td>\n",
       "      <td>23</td>\n",
       "      <td>2.60</td>\n",
       "      <td>Europe</td>\n",
       "    </tr>\n",
       "    <tr>\n",
       "      <th>4</th>\n",
       "      <td>Angola</td>\n",
       "      <td>950</td>\n",
       "      <td>41</td>\n",
       "      <td>242</td>\n",
       "      <td>667</td>\n",
       "      <td>18</td>\n",
       "      <td>1</td>\n",
       "      <td>0</td>\n",
       "      <td>4.32</td>\n",
       "      <td>25.47</td>\n",
       "      <td>16.94</td>\n",
       "      <td>749</td>\n",
       "      <td>201</td>\n",
       "      <td>26.84</td>\n",
       "      <td>Africa</td>\n",
       "    </tr>\n",
       "    <tr>\n",
       "      <th>...</th>\n",
       "      <td>...</td>\n",
       "      <td>...</td>\n",
       "      <td>...</td>\n",
       "      <td>...</td>\n",
       "      <td>...</td>\n",
       "      <td>...</td>\n",
       "      <td>...</td>\n",
       "      <td>...</td>\n",
       "      <td>...</td>\n",
       "      <td>...</td>\n",
       "      <td>...</td>\n",
       "      <td>...</td>\n",
       "      <td>...</td>\n",
       "      <td>...</td>\n",
       "      <td>...</td>\n",
       "    </tr>\n",
       "    <tr>\n",
       "      <th>182</th>\n",
       "      <td>West Bank and Gaza</td>\n",
       "      <td>10621</td>\n",
       "      <td>78</td>\n",
       "      <td>3752</td>\n",
       "      <td>6791</td>\n",
       "      <td>152</td>\n",
       "      <td>2</td>\n",
       "      <td>0</td>\n",
       "      <td>0.73</td>\n",
       "      <td>35.33</td>\n",
       "      <td>2.08</td>\n",
       "      <td>8916</td>\n",
       "      <td>1705</td>\n",
       "      <td>19.12</td>\n",
       "      <td>Eastern Mediterranean</td>\n",
       "    </tr>\n",
       "    <tr>\n",
       "      <th>183</th>\n",
       "      <td>Western Sahara</td>\n",
       "      <td>10</td>\n",
       "      <td>1</td>\n",
       "      <td>8</td>\n",
       "      <td>1</td>\n",
       "      <td>0</td>\n",
       "      <td>0</td>\n",
       "      <td>0</td>\n",
       "      <td>10.00</td>\n",
       "      <td>80.00</td>\n",
       "      <td>12.50</td>\n",
       "      <td>10</td>\n",
       "      <td>0</td>\n",
       "      <td>0.00</td>\n",
       "      <td>Africa</td>\n",
       "    </tr>\n",
       "    <tr>\n",
       "      <th>184</th>\n",
       "      <td>Yemen</td>\n",
       "      <td>1691</td>\n",
       "      <td>483</td>\n",
       "      <td>833</td>\n",
       "      <td>375</td>\n",
       "      <td>10</td>\n",
       "      <td>4</td>\n",
       "      <td>36</td>\n",
       "      <td>28.56</td>\n",
       "      <td>49.26</td>\n",
       "      <td>57.98</td>\n",
       "      <td>1619</td>\n",
       "      <td>72</td>\n",
       "      <td>4.45</td>\n",
       "      <td>Eastern Mediterranean</td>\n",
       "    </tr>\n",
       "    <tr>\n",
       "      <th>185</th>\n",
       "      <td>Zambia</td>\n",
       "      <td>4552</td>\n",
       "      <td>140</td>\n",
       "      <td>2815</td>\n",
       "      <td>1597</td>\n",
       "      <td>71</td>\n",
       "      <td>1</td>\n",
       "      <td>465</td>\n",
       "      <td>3.08</td>\n",
       "      <td>61.84</td>\n",
       "      <td>4.97</td>\n",
       "      <td>3326</td>\n",
       "      <td>1226</td>\n",
       "      <td>36.86</td>\n",
       "      <td>Africa</td>\n",
       "    </tr>\n",
       "    <tr>\n",
       "      <th>186</th>\n",
       "      <td>Zimbabwe</td>\n",
       "      <td>2704</td>\n",
       "      <td>36</td>\n",
       "      <td>542</td>\n",
       "      <td>2126</td>\n",
       "      <td>192</td>\n",
       "      <td>2</td>\n",
       "      <td>24</td>\n",
       "      <td>1.33</td>\n",
       "      <td>20.04</td>\n",
       "      <td>6.64</td>\n",
       "      <td>1713</td>\n",
       "      <td>991</td>\n",
       "      <td>57.85</td>\n",
       "      <td>Africa</td>\n",
       "    </tr>\n",
       "  </tbody>\n",
       "</table>\n",
       "<p>187 rows × 15 columns</p>\n",
       "</div>"
      ],
      "text/plain": [
       "         Country/Region  Confirmed  Deaths  Recovered  Active  New cases  \\\n",
       "0           Afghanistan      36263    1269      25198    9796        106   \n",
       "1               Albania       4880     144       2745    1991        117   \n",
       "2               Algeria      27973    1163      18837    7973        616   \n",
       "3               Andorra        907      52        803      52         10   \n",
       "4                Angola        950      41        242     667         18   \n",
       "..                  ...        ...     ...        ...     ...        ...   \n",
       "182  West Bank and Gaza      10621      78       3752    6791        152   \n",
       "183      Western Sahara         10       1          8       1          0   \n",
       "184               Yemen       1691     483        833     375         10   \n",
       "185              Zambia       4552     140       2815    1597         71   \n",
       "186            Zimbabwe       2704      36        542    2126        192   \n",
       "\n",
       "     New deaths  New recovered  Deaths / 100 Cases  Recovered / 100 Cases  \\\n",
       "0            10             18                3.50                  69.49   \n",
       "1             6             63                2.95                  56.25   \n",
       "2             8            749                4.16                  67.34   \n",
       "3             0              0                5.73                  88.53   \n",
       "4             1              0                4.32                  25.47   \n",
       "..          ...            ...                 ...                    ...   \n",
       "182           2              0                0.73                  35.33   \n",
       "183           0              0               10.00                  80.00   \n",
       "184           4             36               28.56                  49.26   \n",
       "185           1            465                3.08                  61.84   \n",
       "186           2             24                1.33                  20.04   \n",
       "\n",
       "     Deaths / 100 Recovered  Confirmed last week  1 week change  \\\n",
       "0                      5.04                35526            737   \n",
       "1                      5.25                 4171            709   \n",
       "2                      6.17                23691           4282   \n",
       "3                      6.48                  884             23   \n",
       "4                     16.94                  749            201   \n",
       "..                      ...                  ...            ...   \n",
       "182                    2.08                 8916           1705   \n",
       "183                   12.50                   10              0   \n",
       "184                   57.98                 1619             72   \n",
       "185                    4.97                 3326           1226   \n",
       "186                    6.64                 1713            991   \n",
       "\n",
       "     1 week % increase             WHO Region  \n",
       "0                 2.07  Eastern Mediterranean  \n",
       "1                17.00                 Europe  \n",
       "2                18.07                 Africa  \n",
       "3                 2.60                 Europe  \n",
       "4                26.84                 Africa  \n",
       "..                 ...                    ...  \n",
       "182              19.12  Eastern Mediterranean  \n",
       "183               0.00                 Africa  \n",
       "184               4.45  Eastern Mediterranean  \n",
       "185              36.86                 Africa  \n",
       "186              57.85                 Africa  \n",
       "\n",
       "[187 rows x 15 columns]"
      ]
     },
     "execution_count": 3,
     "metadata": {},
     "output_type": "execute_result"
    }
   ],
   "source": [
    "data"
   ]
  },
  {
   "cell_type": "markdown",
   "id": "99e6ad1c",
   "metadata": {},
   "source": [
    "### To Display the column names"
   ]
  },
  {
   "cell_type": "code",
   "execution_count": 4,
   "id": "49d3c19f",
   "metadata": {},
   "outputs": [
    {
     "name": "stdout",
     "output_type": "stream",
     "text": [
      "Index(['Country/Region', 'Confirmed', 'Deaths', 'Recovered', 'Active',\n",
      "       'New cases', 'New deaths', 'New recovered', 'Deaths / 100 Cases',\n",
      "       'Recovered / 100 Cases', 'Deaths / 100 Recovered',\n",
      "       'Confirmed last week', '1 week change', '1 week % increase',\n",
      "       'WHO Region'],\n",
      "      dtype='object')\n"
     ]
    }
   ],
   "source": [
    "\n",
    "print(data.columns)\n"
   ]
  },
  {
   "cell_type": "markdown",
   "id": "f469bd04",
   "metadata": {},
   "source": [
    "## Task 1: To Find the Number of Unique Countries"
   ]
  },
  {
   "cell_type": "code",
   "execution_count": 5,
   "id": "1a5ab21a",
   "metadata": {},
   "outputs": [],
   "source": [
    "\n",
    "def task1_unique_countries(data):\n",
    "    unique_countries = data['Country/Region'].nunique()\n",
    "    print(f'There are {unique_countries} unique countries in the dataset')\n"
   ]
  },
  {
   "cell_type": "markdown",
   "id": "ea26d9a5",
   "metadata": {},
   "source": [
    "## Task 2: To Check the Null values in the Dataset"
   ]
  },
  {
   "cell_type": "code",
   "execution_count": 6,
   "id": "c21cdb42",
   "metadata": {},
   "outputs": [],
   "source": [
    "\n",
    "def task2_check_null_values(data):\n",
    "    null_values = data.isnull().sum()\n",
    "    print(f'The Confirmed column has {null_values[\"Confirmed\"]} missing values')\n"
   ]
  },
  {
   "cell_type": "markdown",
   "id": "6b1d6156",
   "metadata": {},
   "source": [
    "## Task 3: Which Country has the maximum number of confirmed cases"
   ]
  },
  {
   "cell_type": "code",
   "execution_count": 7,
   "id": "c33c1b27",
   "metadata": {},
   "outputs": [],
   "source": [
    "\n",
    "def task3_max_confirmed_country(data):\n",
    "    max_confirmed_country = data.loc[data['Confirmed'].idxmax()]['Country/Region']\n",
    "    max_confirmed_cases = data['Confirmed'].max()\n",
    "    print(f'{max_confirmed_country} has the highest number of confirmed cases with {max_confirmed_cases} cases')\n"
   ]
  },
  {
   "cell_type": "markdown",
   "id": "6f467397",
   "metadata": {},
   "source": [
    "## Task 4: Which Country has the maximum number of deaths"
   ]
  },
  {
   "cell_type": "code",
   "execution_count": 8,
   "id": "36391b2e",
   "metadata": {},
   "outputs": [],
   "source": [
    "\n",
    "def task4_max_deaths_country(data):\n",
    "    max_deaths_country = data.loc[data['Deaths'].idxmax()]['Country/Region']\n",
    "    max_deaths = data['Deaths'].max()\n",
    "    print(f'{max_deaths_country} has the highest number of deaths with {max_deaths} deaths')\n"
   ]
  },
  {
   "cell_type": "markdown",
   "id": "834a73d6",
   "metadata": {},
   "source": [
    "## Task 5: What is the average number of cases across all countries"
   ]
  },
  {
   "cell_type": "code",
   "execution_count": 9,
   "id": "2ae73b82",
   "metadata": {},
   "outputs": [],
   "source": [
    "\n",
    "def task5_average_confirmed_cases(data):\n",
    "    average_confirmed_cases = data['Confirmed'].mean()\n",
    "    print(f'The average number of confirmed cases across all countries is {average_confirmed_cases:.3f}')\n"
   ]
  },
  {
   "cell_type": "markdown",
   "id": "72e45407",
   "metadata": {},
   "source": [
    "## Task 6: What is the total number of deaths as per the dataset"
   ]
  },
  {
   "cell_type": "code",
   "execution_count": 10,
   "id": "6a56066b",
   "metadata": {},
   "outputs": [],
   "source": [
    "\n",
    "def task6_total_deaths(data):\n",
    "    total_deaths = data['Deaths'].sum()\n",
    "    print(f'The dataset records a total of {total_deaths} deaths')\n"
   ]
  },
  {
   "cell_type": "markdown",
   "id": "d351afaa",
   "metadata": {},
   "source": [
    "## Task 7: What is the total number of confirmed cases"
   ]
  },
  {
   "cell_type": "code",
   "execution_count": 11,
   "id": "a93cf206",
   "metadata": {},
   "outputs": [],
   "source": [
    "\n",
    "def task7_total_confirmed_cases(data):\n",
    "    total_confirmed_cases = data['Confirmed'].sum()\n",
    "    print(f'The dataset records a total of {total_confirmed_cases} confirmed cases')\n"
   ]
  },
  {
   "cell_type": "markdown",
   "id": "d43be25c",
   "metadata": {},
   "source": [
    "## Task 8: Which country has the highest death percentage"
   ]
  },
  {
   "cell_type": "code",
   "execution_count": 13,
   "id": "9e5dc5ff",
   "metadata": {},
   "outputs": [],
   "source": [
    "\n",
    "def task8_highest_death_percentage(data):\n",
    "    data['Death Percentage'] = (data['Deaths'] / data['Confirmed']) * 100\n",
    "    highest_death_percentage_country = data.loc[data['Death Percentage'].idxmax()]['Country/Region']\n",
    "    print(f'{highest_death_percentage_country} has the highest death percentage')\n"
   ]
  },
  {
   "cell_type": "markdown",
   "id": "a306ce3c",
   "metadata": {},
   "source": [
    "## Task 9: Which country has the highest recovery percentage"
   ]
  },
  {
   "cell_type": "code",
   "execution_count": 14,
   "id": "695fe767",
   "metadata": {},
   "outputs": [],
   "source": [
    "\n",
    "def task9_highest_recovery_percentage(data):\n",
    "    data['Recovery Percentage'] = (data['Recovered'] / data['Confirmed']) * 100\n",
    "    highest_recovery_percentage_country = data.loc[data['Recovery Percentage'].idxmax()]['Country/Region']\n",
    "    print(f'{highest_recovery_percentage_country} has the highest recovery percentage')\n"
   ]
  },
  {
   "cell_type": "markdown",
   "id": "e6c7628e",
   "metadata": {},
   "source": [
    "## Task 10: To Create a New Column New Cases to Active Cases Ratio"
   ]
  },
  {
   "cell_type": "code",
   "execution_count": 15,
   "id": "ab92f786",
   "metadata": {},
   "outputs": [],
   "source": [
    "def task10_new_cases_to_active_ratio(data):\n",
    "    if 'New cases' in data.columns and 'Active' in data.columns:\n",
    "        # Calculate the ratio of new cases to active cases\n",
    "        data['New Cases to Active Ratio'] = data['New cases'] / data['Active']\n",
    "        print(\"New column 'New Cases to Active Ratio' created successfully.\")\n",
    "        print(data[['Country/Region', 'New cases', 'Active', 'New Cases to Active Ratio']])\n",
    "    else:\n",
    "        print(\"Columns 'New cases' or 'Active' not found in the dataset.\")"
   ]
  },
  {
   "cell_type": "markdown",
   "id": "a81b7965",
   "metadata": {},
   "source": [
    "## Task 11: To Create a New DataFrame for the Africa WHO Region"
   ]
  },
  {
   "cell_type": "code",
   "execution_count": 18,
   "id": "a1486f99",
   "metadata": {},
   "outputs": [],
   "source": [
    "\n",
    "def task11_africa_who_region(data):\n",
    "    africa_data = data[data['WHO Region'] == 'Africa']\n",
    "    print(\"New DataFrame for Africa WHO Region created successfully.\")\n",
    "    return africa_data\n"
   ]
  },
  {
   "cell_type": "markdown",
   "id": "8e8e710b",
   "metadata": {},
   "source": [
    "## Calling the tasks"
   ]
  },
  {
   "cell_type": "code",
   "execution_count": 19,
   "id": "fd15d424",
   "metadata": {},
   "outputs": [
    {
     "name": "stdout",
     "output_type": "stream",
     "text": [
      "There are 187 unique countries in the dataset\n"
     ]
    }
   ],
   "source": [
    "\n",
    "task1_unique_countries(data)"
   ]
  },
  {
   "cell_type": "code",
   "execution_count": 20,
   "id": "c11ad7e4",
   "metadata": {},
   "outputs": [
    {
     "name": "stdout",
     "output_type": "stream",
     "text": [
      "The Confirmed column has 0 missing values\n"
     ]
    }
   ],
   "source": [
    "\n",
    "task2_check_null_values(data)\n"
   ]
  },
  {
   "cell_type": "code",
   "execution_count": 21,
   "id": "015ab963",
   "metadata": {},
   "outputs": [
    {
     "name": "stdout",
     "output_type": "stream",
     "text": [
      "US has the highest number of confirmed cases with 4290259 cases\n"
     ]
    }
   ],
   "source": [
    "\n",
    "task3_max_confirmed_country(data)\n"
   ]
  },
  {
   "cell_type": "code",
   "execution_count": 22,
   "id": "add0264f",
   "metadata": {},
   "outputs": [
    {
     "name": "stdout",
     "output_type": "stream",
     "text": [
      "US has the highest number of deaths with 148011 deaths\n"
     ]
    }
   ],
   "source": [
    "\n",
    "task4_max_deaths_country(data)\n"
   ]
  },
  {
   "cell_type": "code",
   "execution_count": 23,
   "id": "6ff8bbaf",
   "metadata": {},
   "outputs": [
    {
     "name": "stdout",
     "output_type": "stream",
     "text": [
      "The average number of confirmed cases across all countries is 88130.936\n"
     ]
    }
   ],
   "source": [
    "\n",
    "task5_average_confirmed_cases(data)\n"
   ]
  },
  {
   "cell_type": "code",
   "execution_count": 24,
   "id": "ee7be3d6",
   "metadata": {},
   "outputs": [
    {
     "name": "stdout",
     "output_type": "stream",
     "text": [
      "The dataset records a total of 654036 deaths\n"
     ]
    }
   ],
   "source": [
    "\n",
    "task6_total_deaths(data)\n"
   ]
  },
  {
   "cell_type": "code",
   "execution_count": 25,
   "id": "dbd551dd",
   "metadata": {},
   "outputs": [
    {
     "name": "stdout",
     "output_type": "stream",
     "text": [
      "The dataset records a total of 16480485 confirmed cases\n"
     ]
    }
   ],
   "source": [
    "\n",
    "task7_total_confirmed_cases(data)\n"
   ]
  },
  {
   "cell_type": "code",
   "execution_count": 26,
   "id": "2bda1e38",
   "metadata": {},
   "outputs": [
    {
     "name": "stdout",
     "output_type": "stream",
     "text": [
      "Yemen has the highest death percentage\n"
     ]
    }
   ],
   "source": [
    "\n",
    "task8_highest_death_percentage(data)\n"
   ]
  },
  {
   "cell_type": "code",
   "execution_count": 27,
   "id": "a814961a",
   "metadata": {},
   "outputs": [
    {
     "name": "stdout",
     "output_type": "stream",
     "text": [
      "Dominica has the highest recovery percentage\n"
     ]
    }
   ],
   "source": [
    "\n",
    "task9_highest_recovery_percentage(data)\n"
   ]
  },
  {
   "cell_type": "code",
   "execution_count": 28,
   "id": "7c3094d6",
   "metadata": {},
   "outputs": [
    {
     "name": "stdout",
     "output_type": "stream",
     "text": [
      "New column 'New Cases to Active Ratio' created successfully.\n",
      "         Country/Region  New cases  Active  New Cases to Active Ratio\n",
      "0           Afghanistan        106    9796                   0.010821\n",
      "1               Albania        117    1991                   0.058764\n",
      "2               Algeria        616    7973                   0.077261\n",
      "3               Andorra         10      52                   0.192308\n",
      "4                Angola         18     667                   0.026987\n",
      "..                  ...        ...     ...                        ...\n",
      "182  West Bank and Gaza        152    6791                   0.022383\n",
      "183      Western Sahara          0       1                   0.000000\n",
      "184               Yemen         10     375                   0.026667\n",
      "185              Zambia         71    1597                   0.044458\n",
      "186            Zimbabwe        192    2126                   0.090310\n",
      "\n",
      "[187 rows x 4 columns]\n"
     ]
    }
   ],
   "source": [
    "\n",
    "task10_new_cases_to_active_ratio(data)\n"
   ]
  },
  {
   "cell_type": "markdown",
   "id": "698f1e4f",
   "metadata": {},
   "source": [
    "### Data After creating New Cases to Active Ratio column"
   ]
  },
  {
   "cell_type": "code",
   "execution_count": 29,
   "id": "d67660ef",
   "metadata": {},
   "outputs": [
    {
     "data": {
      "text/html": [
       "<div>\n",
       "<style scoped>\n",
       "    .dataframe tbody tr th:only-of-type {\n",
       "        vertical-align: middle;\n",
       "    }\n",
       "\n",
       "    .dataframe tbody tr th {\n",
       "        vertical-align: top;\n",
       "    }\n",
       "\n",
       "    .dataframe thead th {\n",
       "        text-align: right;\n",
       "    }\n",
       "</style>\n",
       "<table border=\"1\" class=\"dataframe\">\n",
       "  <thead>\n",
       "    <tr style=\"text-align: right;\">\n",
       "      <th></th>\n",
       "      <th>Country/Region</th>\n",
       "      <th>Confirmed</th>\n",
       "      <th>Deaths</th>\n",
       "      <th>Recovered</th>\n",
       "      <th>Active</th>\n",
       "      <th>New cases</th>\n",
       "      <th>New deaths</th>\n",
       "      <th>New recovered</th>\n",
       "      <th>Deaths / 100 Cases</th>\n",
       "      <th>Recovered / 100 Cases</th>\n",
       "      <th>Deaths / 100 Recovered</th>\n",
       "      <th>Confirmed last week</th>\n",
       "      <th>1 week change</th>\n",
       "      <th>1 week % increase</th>\n",
       "      <th>WHO Region</th>\n",
       "      <th>Death Percentage</th>\n",
       "      <th>Recovery Percentage</th>\n",
       "      <th>New Cases to Active Ratio</th>\n",
       "    </tr>\n",
       "  </thead>\n",
       "  <tbody>\n",
       "    <tr>\n",
       "      <th>0</th>\n",
       "      <td>Afghanistan</td>\n",
       "      <td>36263</td>\n",
       "      <td>1269</td>\n",
       "      <td>25198</td>\n",
       "      <td>9796</td>\n",
       "      <td>106</td>\n",
       "      <td>10</td>\n",
       "      <td>18</td>\n",
       "      <td>3.50</td>\n",
       "      <td>69.49</td>\n",
       "      <td>5.04</td>\n",
       "      <td>35526</td>\n",
       "      <td>737</td>\n",
       "      <td>2.07</td>\n",
       "      <td>Eastern Mediterranean</td>\n",
       "      <td>3.499435</td>\n",
       "      <td>69.486805</td>\n",
       "      <td>0.010821</td>\n",
       "    </tr>\n",
       "    <tr>\n",
       "      <th>1</th>\n",
       "      <td>Albania</td>\n",
       "      <td>4880</td>\n",
       "      <td>144</td>\n",
       "      <td>2745</td>\n",
       "      <td>1991</td>\n",
       "      <td>117</td>\n",
       "      <td>6</td>\n",
       "      <td>63</td>\n",
       "      <td>2.95</td>\n",
       "      <td>56.25</td>\n",
       "      <td>5.25</td>\n",
       "      <td>4171</td>\n",
       "      <td>709</td>\n",
       "      <td>17.00</td>\n",
       "      <td>Europe</td>\n",
       "      <td>2.950820</td>\n",
       "      <td>56.250000</td>\n",
       "      <td>0.058764</td>\n",
       "    </tr>\n",
       "    <tr>\n",
       "      <th>2</th>\n",
       "      <td>Algeria</td>\n",
       "      <td>27973</td>\n",
       "      <td>1163</td>\n",
       "      <td>18837</td>\n",
       "      <td>7973</td>\n",
       "      <td>616</td>\n",
       "      <td>8</td>\n",
       "      <td>749</td>\n",
       "      <td>4.16</td>\n",
       "      <td>67.34</td>\n",
       "      <td>6.17</td>\n",
       "      <td>23691</td>\n",
       "      <td>4282</td>\n",
       "      <td>18.07</td>\n",
       "      <td>Africa</td>\n",
       "      <td>4.157581</td>\n",
       "      <td>67.339935</td>\n",
       "      <td>0.077261</td>\n",
       "    </tr>\n",
       "    <tr>\n",
       "      <th>3</th>\n",
       "      <td>Andorra</td>\n",
       "      <td>907</td>\n",
       "      <td>52</td>\n",
       "      <td>803</td>\n",
       "      <td>52</td>\n",
       "      <td>10</td>\n",
       "      <td>0</td>\n",
       "      <td>0</td>\n",
       "      <td>5.73</td>\n",
       "      <td>88.53</td>\n",
       "      <td>6.48</td>\n",
       "      <td>884</td>\n",
       "      <td>23</td>\n",
       "      <td>2.60</td>\n",
       "      <td>Europe</td>\n",
       "      <td>5.733186</td>\n",
       "      <td>88.533627</td>\n",
       "      <td>0.192308</td>\n",
       "    </tr>\n",
       "    <tr>\n",
       "      <th>4</th>\n",
       "      <td>Angola</td>\n",
       "      <td>950</td>\n",
       "      <td>41</td>\n",
       "      <td>242</td>\n",
       "      <td>667</td>\n",
       "      <td>18</td>\n",
       "      <td>1</td>\n",
       "      <td>0</td>\n",
       "      <td>4.32</td>\n",
       "      <td>25.47</td>\n",
       "      <td>16.94</td>\n",
       "      <td>749</td>\n",
       "      <td>201</td>\n",
       "      <td>26.84</td>\n",
       "      <td>Africa</td>\n",
       "      <td>4.315789</td>\n",
       "      <td>25.473684</td>\n",
       "      <td>0.026987</td>\n",
       "    </tr>\n",
       "    <tr>\n",
       "      <th>...</th>\n",
       "      <td>...</td>\n",
       "      <td>...</td>\n",
       "      <td>...</td>\n",
       "      <td>...</td>\n",
       "      <td>...</td>\n",
       "      <td>...</td>\n",
       "      <td>...</td>\n",
       "      <td>...</td>\n",
       "      <td>...</td>\n",
       "      <td>...</td>\n",
       "      <td>...</td>\n",
       "      <td>...</td>\n",
       "      <td>...</td>\n",
       "      <td>...</td>\n",
       "      <td>...</td>\n",
       "      <td>...</td>\n",
       "      <td>...</td>\n",
       "      <td>...</td>\n",
       "    </tr>\n",
       "    <tr>\n",
       "      <th>182</th>\n",
       "      <td>West Bank and Gaza</td>\n",
       "      <td>10621</td>\n",
       "      <td>78</td>\n",
       "      <td>3752</td>\n",
       "      <td>6791</td>\n",
       "      <td>152</td>\n",
       "      <td>2</td>\n",
       "      <td>0</td>\n",
       "      <td>0.73</td>\n",
       "      <td>35.33</td>\n",
       "      <td>2.08</td>\n",
       "      <td>8916</td>\n",
       "      <td>1705</td>\n",
       "      <td>19.12</td>\n",
       "      <td>Eastern Mediterranean</td>\n",
       "      <td>0.734394</td>\n",
       "      <td>35.326240</td>\n",
       "      <td>0.022383</td>\n",
       "    </tr>\n",
       "    <tr>\n",
       "      <th>183</th>\n",
       "      <td>Western Sahara</td>\n",
       "      <td>10</td>\n",
       "      <td>1</td>\n",
       "      <td>8</td>\n",
       "      <td>1</td>\n",
       "      <td>0</td>\n",
       "      <td>0</td>\n",
       "      <td>0</td>\n",
       "      <td>10.00</td>\n",
       "      <td>80.00</td>\n",
       "      <td>12.50</td>\n",
       "      <td>10</td>\n",
       "      <td>0</td>\n",
       "      <td>0.00</td>\n",
       "      <td>Africa</td>\n",
       "      <td>10.000000</td>\n",
       "      <td>80.000000</td>\n",
       "      <td>0.000000</td>\n",
       "    </tr>\n",
       "    <tr>\n",
       "      <th>184</th>\n",
       "      <td>Yemen</td>\n",
       "      <td>1691</td>\n",
       "      <td>483</td>\n",
       "      <td>833</td>\n",
       "      <td>375</td>\n",
       "      <td>10</td>\n",
       "      <td>4</td>\n",
       "      <td>36</td>\n",
       "      <td>28.56</td>\n",
       "      <td>49.26</td>\n",
       "      <td>57.98</td>\n",
       "      <td>1619</td>\n",
       "      <td>72</td>\n",
       "      <td>4.45</td>\n",
       "      <td>Eastern Mediterranean</td>\n",
       "      <td>28.562980</td>\n",
       "      <td>49.260792</td>\n",
       "      <td>0.026667</td>\n",
       "    </tr>\n",
       "    <tr>\n",
       "      <th>185</th>\n",
       "      <td>Zambia</td>\n",
       "      <td>4552</td>\n",
       "      <td>140</td>\n",
       "      <td>2815</td>\n",
       "      <td>1597</td>\n",
       "      <td>71</td>\n",
       "      <td>1</td>\n",
       "      <td>465</td>\n",
       "      <td>3.08</td>\n",
       "      <td>61.84</td>\n",
       "      <td>4.97</td>\n",
       "      <td>3326</td>\n",
       "      <td>1226</td>\n",
       "      <td>36.86</td>\n",
       "      <td>Africa</td>\n",
       "      <td>3.075571</td>\n",
       "      <td>61.840949</td>\n",
       "      <td>0.044458</td>\n",
       "    </tr>\n",
       "    <tr>\n",
       "      <th>186</th>\n",
       "      <td>Zimbabwe</td>\n",
       "      <td>2704</td>\n",
       "      <td>36</td>\n",
       "      <td>542</td>\n",
       "      <td>2126</td>\n",
       "      <td>192</td>\n",
       "      <td>2</td>\n",
       "      <td>24</td>\n",
       "      <td>1.33</td>\n",
       "      <td>20.04</td>\n",
       "      <td>6.64</td>\n",
       "      <td>1713</td>\n",
       "      <td>991</td>\n",
       "      <td>57.85</td>\n",
       "      <td>Africa</td>\n",
       "      <td>1.331361</td>\n",
       "      <td>20.044379</td>\n",
       "      <td>0.090310</td>\n",
       "    </tr>\n",
       "  </tbody>\n",
       "</table>\n",
       "<p>187 rows × 18 columns</p>\n",
       "</div>"
      ],
      "text/plain": [
       "         Country/Region  Confirmed  Deaths  Recovered  Active  New cases  \\\n",
       "0           Afghanistan      36263    1269      25198    9796        106   \n",
       "1               Albania       4880     144       2745    1991        117   \n",
       "2               Algeria      27973    1163      18837    7973        616   \n",
       "3               Andorra        907      52        803      52         10   \n",
       "4                Angola        950      41        242     667         18   \n",
       "..                  ...        ...     ...        ...     ...        ...   \n",
       "182  West Bank and Gaza      10621      78       3752    6791        152   \n",
       "183      Western Sahara         10       1          8       1          0   \n",
       "184               Yemen       1691     483        833     375         10   \n",
       "185              Zambia       4552     140       2815    1597         71   \n",
       "186            Zimbabwe       2704      36        542    2126        192   \n",
       "\n",
       "     New deaths  New recovered  Deaths / 100 Cases  Recovered / 100 Cases  \\\n",
       "0            10             18                3.50                  69.49   \n",
       "1             6             63                2.95                  56.25   \n",
       "2             8            749                4.16                  67.34   \n",
       "3             0              0                5.73                  88.53   \n",
       "4             1              0                4.32                  25.47   \n",
       "..          ...            ...                 ...                    ...   \n",
       "182           2              0                0.73                  35.33   \n",
       "183           0              0               10.00                  80.00   \n",
       "184           4             36               28.56                  49.26   \n",
       "185           1            465                3.08                  61.84   \n",
       "186           2             24                1.33                  20.04   \n",
       "\n",
       "     Deaths / 100 Recovered  Confirmed last week  1 week change  \\\n",
       "0                      5.04                35526            737   \n",
       "1                      5.25                 4171            709   \n",
       "2                      6.17                23691           4282   \n",
       "3                      6.48                  884             23   \n",
       "4                     16.94                  749            201   \n",
       "..                      ...                  ...            ...   \n",
       "182                    2.08                 8916           1705   \n",
       "183                   12.50                   10              0   \n",
       "184                   57.98                 1619             72   \n",
       "185                    4.97                 3326           1226   \n",
       "186                    6.64                 1713            991   \n",
       "\n",
       "     1 week % increase             WHO Region  Death Percentage  \\\n",
       "0                 2.07  Eastern Mediterranean          3.499435   \n",
       "1                17.00                 Europe          2.950820   \n",
       "2                18.07                 Africa          4.157581   \n",
       "3                 2.60                 Europe          5.733186   \n",
       "4                26.84                 Africa          4.315789   \n",
       "..                 ...                    ...               ...   \n",
       "182              19.12  Eastern Mediterranean          0.734394   \n",
       "183               0.00                 Africa         10.000000   \n",
       "184               4.45  Eastern Mediterranean         28.562980   \n",
       "185              36.86                 Africa          3.075571   \n",
       "186              57.85                 Africa          1.331361   \n",
       "\n",
       "     Recovery Percentage  New Cases to Active Ratio  \n",
       "0              69.486805                   0.010821  \n",
       "1              56.250000                   0.058764  \n",
       "2              67.339935                   0.077261  \n",
       "3              88.533627                   0.192308  \n",
       "4              25.473684                   0.026987  \n",
       "..                   ...                        ...  \n",
       "182            35.326240                   0.022383  \n",
       "183            80.000000                   0.000000  \n",
       "184            49.260792                   0.026667  \n",
       "185            61.840949                   0.044458  \n",
       "186            20.044379                   0.090310  \n",
       "\n",
       "[187 rows x 18 columns]"
      ]
     },
     "execution_count": 29,
     "metadata": {},
     "output_type": "execute_result"
    }
   ],
   "source": [
    "data"
   ]
  },
  {
   "cell_type": "markdown",
   "id": "bfb872d1",
   "metadata": {},
   "source": [
    "#### Displaying the first few rows of the new DataFrame"
   ]
  },
  {
   "cell_type": "code",
   "execution_count": 27,
   "id": "0210c9f7",
   "metadata": {},
   "outputs": [
    {
     "name": "stdout",
     "output_type": "stream",
     "text": [
      "New DataFrame for Africa WHO Region created successfully.\n",
      "   Country/Region  Confirmed  Deaths  Recovered  Active  New cases  \\\n",
      "2         Algeria      27973    1163      18837    7973        616   \n",
      "4          Angola        950      41        242     667         18   \n",
      "18          Benin       1770      35       1036     699          0   \n",
      "22       Botswana        739       2         63     674         53   \n",
      "26   Burkina Faso       1100      53        926     121         14   \n",
      "\n",
      "    New deaths  New recovered  Deaths / 100 Cases  Recovered / 100 Cases  \\\n",
      "2            8            749                4.16                  67.34   \n",
      "4            1              0                4.32                  25.47   \n",
      "18           0              0                1.98                  58.53   \n",
      "22           1             11                0.27                   8.53   \n",
      "26           0              6                4.82                  84.18   \n",
      "\n",
      "    Deaths / 100 Recovered  Confirmed last week  1 week change  \\\n",
      "2                     6.17                23691           4282   \n",
      "4                    16.94                  749            201   \n",
      "18                    3.38                 1602            168   \n",
      "22                    3.17                  522            217   \n",
      "26                    5.72                 1065             35   \n",
      "\n",
      "    1 week % increase WHO Region  Death Percentage  Recovery Percentage  \n",
      "2               18.07     Africa          4.157581            67.339935  \n",
      "4               26.84     Africa          4.315789            25.473684  \n",
      "18              10.49     Africa          1.977401            58.531073  \n",
      "22              41.57     Africa          0.270636             8.525034  \n",
      "26               3.29     Africa          4.818182            84.181818  \n"
     ]
    }
   ],
   "source": [
    "africa_data = task11_africa_who_region(data)\n",
    "print(africa_data.head()) "
   ]
  }
 ],
 "metadata": {
  "kernelspec": {
   "display_name": "Python 3 (ipykernel)",
   "language": "python",
   "name": "python3"
  },
  "language_info": {
   "codemirror_mode": {
    "name": "ipython",
    "version": 3
   },
   "file_extension": ".py",
   "mimetype": "text/x-python",
   "name": "python",
   "nbconvert_exporter": "python",
   "pygments_lexer": "ipython3",
   "version": "3.9.13"
  }
 },
 "nbformat": 4,
 "nbformat_minor": 5
}
