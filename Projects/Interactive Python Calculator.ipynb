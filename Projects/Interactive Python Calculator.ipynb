{
 "cells": [
  {
   "cell_type": "markdown",
   "id": "5c1b01df",
   "metadata": {},
   "source": [
    "# Interactive Python Calculator Project"
   ]
  },
  {
   "cell_type": "markdown",
   "id": "b46ec57d",
   "metadata": {},
   "source": [
    "## User Input"
   ]
  },
  {
   "cell_type": "code",
   "execution_count": 16,
   "id": "488fa773",
   "metadata": {},
   "outputs": [
    {
     "name": "stdout",
     "output_type": "stream",
     "text": [
      "Enter the first numeric value: 8\n",
      "Enter the second numeric value: 0\n"
     ]
    }
   ],
   "source": [
    "num1 = input(\"Enter the first numeric value: \")\n",
    "num2 = input(\"Enter the second numeric value: \")"
   ]
  },
  {
   "cell_type": "markdown",
   "id": "d5ad2fe9",
   "metadata": {},
   "source": [
    "##  Typecasting "
   ]
  },
  {
   "cell_type": "code",
   "execution_count": 17,
   "id": "210bf033",
   "metadata": {},
   "outputs": [],
   "source": [
    "try:\n",
    "    num1 = float(num1)\n",
    "    num2 = float(num2)\n",
    "except ValueError:\n",
    "    print(\"Error: Please enter valid numeric values.\")"
   ]
  },
  {
   "cell_type": "markdown",
   "id": "9aad3e27",
   "metadata": {},
   "source": [
    "## Arithmetic Operations"
   ]
  },
  {
   "cell_type": "code",
   "execution_count": 18,
   "id": "1d6a89ab",
   "metadata": {},
   "outputs": [],
   "source": [
    "addition_result = num1 + num2\n",
    "subtraction_result = num1 - num2\n",
    "multiplication_result = num1 * num2"
   ]
  },
  {
   "cell_type": "markdown",
   "id": "8501c3cf",
   "metadata": {},
   "source": [
    "## Division with error handling for division by zero"
   ]
  },
  {
   "cell_type": "code",
   "execution_count": 19,
   "id": "a36722cc",
   "metadata": {},
   "outputs": [],
   "source": [
    "try:\n",
    "    division_result = num1 / num2\n",
    "except ZeroDivisionError:\n",
    "    division_result = \"Error: Division by zero.\""
   ]
  },
  {
   "cell_type": "markdown",
   "id": "0757032b",
   "metadata": {},
   "source": [
    "## Displaying the Output"
   ]
  },
  {
   "cell_type": "code",
   "execution_count": 20,
   "id": "bddae965",
   "metadata": {},
   "outputs": [
    {
     "name": "stdout",
     "output_type": "stream",
     "text": [
      "\n",
      "Results:\n",
      "Addition: 8.0 + 0.0 = 8.0\n",
      "Subtraction: 8.0 - 0.0 = 8.0\n",
      "Multiplication: 8.0 * 0.0 = 0.0\n",
      "Division: 8.0 / 0.0 = Error: Division by zero.\n"
     ]
    }
   ],
   "source": [
    "print(\"\\nResults:\")\n",
    "print(f\"Addition: {num1} + {num2} = {addition_result}\")\n",
    "print(f\"Subtraction: {num1} - {num2} = {subtraction_result}\")\n",
    "print(f\"Multiplication: {num1} * {num2} = {multiplication_result}\")\n",
    "print(f\"Division: {num1} / {num2} = {division_result}\")"
   ]
  },
  {
   "cell_type": "markdown",
   "id": "db807556",
   "metadata": {},
   "source": [
    "## String Manipulation "
   ]
  },
  {
   "cell_type": "code",
   "execution_count": 6,
   "id": "e1ed764e",
   "metadata": {},
   "outputs": [
    {
     "name": "stdout",
     "output_type": "stream",
     "text": [
      "\n",
      "Enter a mathematical operation (add, subtract, multiply, divide): add\n",
      "\n",
      "Result of Add: 75.5\n"
     ]
    }
   ],
   "source": [
    "operation = input(\"\\nEnter a mathematical operation (add, subtract, multiply, divide): \")\n",
    "if operation.lower() == 'add':\n",
    "    result = num1 + num2\n",
    "elif operation.lower() == 'subtract':\n",
    "    result = num1 - num2\n",
    "elif operation.lower() == 'multiply':\n",
    "    result = num1 * num2\n",
    "elif operation.lower() == 'divide':\n",
    "    try:\n",
    "        result = num1 / num2\n",
    "    except ZeroDivisionError:\n",
    "        result = \"Error: Division by zero.\"\n",
    "else:\n",
    "    result = \"Error: Invalid operation.\"\n",
    "\n",
    "print(f\"\\nResult of {operation.capitalize()}: {result}\")"
   ]
  }
 ],
 "metadata": {
  "kernelspec": {
   "display_name": "Python 3 (ipykernel)",
   "language": "python",
   "name": "python3"
  },
  "language_info": {
   "codemirror_mode": {
    "name": "ipython",
    "version": 3
   },
   "file_extension": ".py",
   "mimetype": "text/x-python",
   "name": "python",
   "nbconvert_exporter": "python",
   "pygments_lexer": "ipython3",
   "version": "3.9.13"
  }
 },
 "nbformat": 4,
 "nbformat_minor": 5
}
